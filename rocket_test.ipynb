{
 "cells": [
  {
   "cell_type": "code",
   "execution_count": 1,
   "metadata": {},
   "outputs": [],
   "source": [
    "from sktime.transformations.panel.rocket import Rocket\r\n",
    "from data_process import *\r\n",
    "from data_split import *\r\n",
    "from sklearn.linear_model import RidgeClassifierCV"
   ]
  },
  {
   "cell_type": "code",
   "execution_count": 2,
   "metadata": {},
   "outputs": [],
   "source": [
    "# syf_train, syf_test, _, _ = generate_data('E:/研一/嗑盐/土壤扰动/dataset/syf')\r\n",
    "# yqcc_train, yqcc_test, _, _ = generate_data('E:/研一/嗑盐/土壤扰动/dataset/yqcc2')\r\n",
    "# yqcc2_train, yqcc2_test, _, _ = generate_data('E:/研一/嗑盐/土壤扰动/dataset/yqcc2_md')\r\n",
    "# zwy_train, zwy_test, _, _ = generate_data('E:/研一/嗑盐/土壤扰动/dataset/zwy')\r\n",
    "# zwy2_train, zwy2_test, _, _ = generate_data('E:/研一/嗑盐/土壤扰动/dataset/zwy_d1')\r\n",
    "zwy3_train, zwy3_test, _, _ = generate_data('E:/研一/嗑盐/土壤扰动/dataset/zwy_md', by_txt=False)\r\n",
    "# j11_train, j11_test, _, _ = generate_data('E:/研一/嗑盐/土壤扰动/dataset/j11', by_txt=False)\r\n",
    "# j11_2_train, j11_2_test, _, _ = generate_data('E:/研一/嗑盐/土壤扰动/dataset/j11_md', by_txt=False)\r\n",
    "# j11_md_train, j11_md_test, _, _ = generate_data('E:/研一/嗑盐/土壤扰动/dataset/j11_49', by_txt=False)\r\n",
    "# zyq_train, zyq_test, _, _ = generate_data('E:/研一/嗑盐/土壤扰动/dataset/zyq', by_txt=False)\r\n",
    "# zyq2_train, zyq2_test, _, _ = generate_data('E:/研一/嗑盐/土壤扰动/dataset/zyq_d1', by_txt=False)"
   ]
  },
  {
   "cell_type": "code",
   "execution_count": 3,
   "metadata": {},
   "outputs": [],
   "source": [
    "# syf, _, _, _ = generate_data('E:/研一/嗑盐/土壤扰动/dataset/syf', factor=0)\r\n",
    "# syf2, _, _, _ = generate_data('E:/研一/嗑盐/土壤扰动/dataset/syf2', factor=0)\r\n",
    "# _, _, _, yqcc_dict = generate_data('E:/研一/嗑盐/土壤扰动/dataset/yqcc2', factor=0)\r\n",
    "# _, _, _, yqcc2_dict = generate_data('E:/研一/嗑盐/土壤扰动/dataset/yqcc2_md', factor=0)\r\n",
    "zwy, _, _, _ = generate_data('E:/研一/嗑盐/土壤扰动/dataset/zwy', factor=0)\r\n",
    "zwy2, _, _, _ = generate_data('E:/研一/嗑盐/土壤扰动/dataset/zwy_d1', factor=0)\r\n",
    "# zwy3, _, _, _ = generate_data('E:/研一/嗑盐/土壤扰动/dataset/zwy_md', factor=0, by_txt=False)\r\n",
    "# j11, _, _, _ = generate_data('E:/研一/嗑盐/土壤扰动/dataset/j11', factor=0, by_txt=False)\r\n",
    "# j11_2, _, _, _ = generate_data('E:/研一/嗑盐/土壤扰动/dataset/j11_md', factor=0, by_txt=False)\r\n",
    "# j11_md, _, _, _ = generate_data('E:/研一/嗑盐/土壤扰动/dataset/j11_49', factor=0, by_txt=False)\r\n",
    "# _, _, _, zyq_dict = generate_data('E:/研一/嗑盐/土壤扰动/dataset/zyq', factor=0, by_txt=False)\r\n",
    "# _, _, _, zyq2_dict = generate_data('E:/研一/嗑盐/土壤扰动/dataset/zyq_d1', factor=0, by_txt=False)"
   ]
  },
  {
   "cell_type": "code",
   "execution_count": 7,
   "metadata": {},
   "outputs": [],
   "source": [
    "train_total = zwy3_train + zwy3_test\r\n",
    "test_total = zwy3_train + zwy3_test\r\n",
    "random.shuffle(train_total)\r\n",
    "\r\n",
    "train_set = np.array([item['data_z'] for item in train_total]).reshape(-1,1,96)\r\n",
    "train_label = np.array([item['label'] for item in train_total])\r\n",
    "\r\n",
    "test_set = np.array([item['data_z'] for item in test_total]).reshape(-1,1,96)\r\n",
    "test_label = np.array([item['label'] for item in test_total])"
   ]
  },
  {
   "cell_type": "code",
   "execution_count": 5,
   "metadata": {},
   "outputs": [],
   "source": [
    "rocket = Rocket()\r\n"
   ]
  },
  {
   "cell_type": "code",
   "execution_count": 9,
   "metadata": {},
   "outputs": [],
   "source": [
    "train_set_t = rocket.fit_transform(train_set)"
   ]
  },
  {
   "cell_type": "code",
   "execution_count": 10,
   "metadata": {},
   "outputs": [],
   "source": [
    "clf = RidgeClassifierCV(alphas=[1e-3, 1e-2, 1e-1, 1]).fit(train_set_t, train_label)"
   ]
  },
  {
   "cell_type": "code",
   "execution_count": null,
   "metadata": {},
   "outputs": [],
   "source": [
    "clf.score(train_set_t, train_label)"
   ]
  },
  {
   "cell_type": "code",
   "execution_count": null,
   "metadata": {},
   "outputs": [],
   "source": [
    "test_set_t = rocket.fit_transform(test_set)\r\n",
    "clf.score(test_set_t, test_label)"
   ]
  }
 ],
 "metadata": {
  "kernelspec": {
   "display_name": "Python 3.6.12 64-bit ('torch': conda)",
   "name": "python3612jvsc74a57bd0fa1753e247323262133cf77db1467c5bc86a9e2562626304a5b3b9a217888aef"
  },
  "language_info": {
   "codemirror_mode": {
    "name": "ipython",
    "version": 3
   },
   "file_extension": ".py",
   "mimetype": "text/x-python",
   "name": "python",
   "nbconvert_exporter": "python",
   "pygments_lexer": "ipython3",
   "version": "3.6.12"
  },
  "orig_nbformat": 2
 },
 "nbformat": 4,
 "nbformat_minor": 2
}