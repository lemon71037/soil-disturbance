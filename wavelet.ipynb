{
 "metadata": {
  "language_info": {
   "codemirror_mode": {
    "name": "ipython",
    "version": 3
   },
   "file_extension": ".py",
   "mimetype": "text/x-python",
   "name": "python",
   "nbconvert_exporter": "python",
   "pygments_lexer": "ipython3",
   "version": "3.6.12-final"
  },
  "orig_nbformat": 2,
  "kernelspec": {
   "name": "python3",
   "display_name": "Python 3.6.12 64-bit ('torch': conda)",
   "metadata": {
    "interpreter": {
     "hash": "fa1753e247323262133cf77db1467c5bc86a9e2562626304a5b3b9a217888aef"
    }
   }
  }
 },
 "nbformat": 4,
 "nbformat_minor": 2,
 "cells": [
  {
   "cell_type": "code",
   "execution_count": 1,
   "metadata": {},
   "outputs": [],
   "source": [
    "%matplotlib inline\n",
    "\n",
    "import matplotlib.pyplot as plt\n",
    "import numpy as np\n",
    "import struct\n",
    "import os\n",
    "\n",
    "import numpy as np\n",
    "import os\n",
    "import warnings\n",
    "import random\n",
    "import pandas as pd\n",
    "\n",
    "from sklearn.model_selection import train_test_split\n",
    "from sklearn.utils import class_weight\n",
    "from collections import Counter\n",
    "\n",
    "from sklearn.metrics import accuracy_score\n",
    "from sklearn.linear_model import RidgeClassifierCV\n",
    "from sklearn.pipeline import make_pipeline\n",
    "import pywt\n",
    "\n",
    "from data_split import *\n",
    "from data_process import *"
   ]
  },
  {
   "cell_type": "code",
   "execution_count": 2,
   "metadata": {},
   "outputs": [],
   "source": [
    "train_dataset_zwy, test_dataset_zwy, filename_zwy = generate_data('E:/研一/嗑盐/土壤扰动/dataset/zwy_d1')"
   ]
  },
  {
   "cell_type": "code",
   "execution_count": 21,
   "metadata": {},
   "outputs": [],
   "source": [
    "def get_wt_features(signal, level=4):\n",
    "    \"\"\"指定某一轴的信号，进行小波分解，获取特征\n",
    "    \"\"\"\n",
    "    features = []\n",
    "    wp = pywt.WaveletPacket(data=signal, wavelet='db3', mode='symmetric', maxlevel=level)\n",
    "    for node in wp.get_level(level, 'freq'):\n",
    "        data = wp[node.path].data\n",
    "        features.append(data)\n",
    "    \n",
    "    return np.array(features, dtype=np.float64)"
   ]
  },
  {
   "cell_type": "code",
   "execution_count": 22,
   "metadata": {},
   "outputs": [],
   "source": [
    "def process_wavelet(data, level=4):\n",
    "    \"\"\"给波形的三轴都计算小波特征，最后合并成特征图\n",
    "    data: {'data_x': ..., 'data_y': ..., 'data_z': ..., ....}\n",
    "    \"\"\"\n",
    "    sig_x, sig_y, sig_z = data['data_x'], data['data_y'], data['data_z']\n",
    "    wt_x, wt_y, wt_z = get_wt_features(sig_x), get_wt_features(sig_y), get_wt_features(sig_z)\n",
    "    return np.array([wt_x, wt_y, wt_z])"
   ]
  },
  {
   "cell_type": "code",
   "execution_count": 18,
   "metadata": {},
   "outputs": [],
   "source": [
    "origin_x = train_dataset_zwy[0]['data_x']\n",
    "wavelet_features = get_wavelet_features(origin_x, 3)"
   ]
  },
  {
   "cell_type": "code",
   "execution_count": 20,
   "metadata": {},
   "outputs": [
    {
     "output_type": "execute_result",
     "data": {
      "text/plain": [
       "(8, 16)"
      ]
     },
     "metadata": {},
     "execution_count": 20
    }
   ],
   "source": [
    "wavelet_features.shape"
   ]
  },
  {
   "cell_type": "code",
   "execution_count": null,
   "metadata": {},
   "outputs": [],
   "source": []
  }
 ]
}