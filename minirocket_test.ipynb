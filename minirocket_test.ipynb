{
 "metadata": {
  "language_info": {
   "codemirror_mode": {
    "name": "ipython",
    "version": 3
   },
   "file_extension": ".py",
   "mimetype": "text/x-python",
   "name": "python",
   "nbconvert_exporter": "python",
   "pygments_lexer": "ipython3",
   "version": "3.8.5-final"
  },
  "orig_nbformat": 2,
  "kernelspec": {
   "name": "python385jvsc74a57bd002580f3b40faffdca494a56716cab34cc74dfb88737f96a81a04d7c61a2f2be5",
   "display_name": "Python 3.8.5 64-bit (conda)"
  }
 },
 "nbformat": 4,
 "nbformat_minor": 2,
 "cells": [
  {
   "cell_type": "code",
   "execution_count": 1,
   "metadata": {},
   "outputs": [],
   "source": [
    "import numpy as np"
   ]
  },
  {
   "cell_type": "code",
   "execution_count": 2,
   "metadata": {},
   "outputs": [],
   "source": [
    "num_kernels = 84\n",
    "n_timepoints = 96\n",
    "num_features = 10000\n",
    "max_dilations_per_kernel = 32"
   ]
  },
  {
   "cell_type": "code",
   "execution_count": 6,
   "metadata": {},
   "outputs": [
    {
     "output_type": "execute_result",
     "data": {
      "text/plain": [
       "32"
      ]
     },
     "metadata": {},
     "execution_count": 6
    }
   ],
   "source": [
    "num_features_per_kernel = num_features // num_kernels\n",
    "true_max_dilations_per_kernel = min(\n",
    "        num_features_per_kernel, max_dilations_per_kernel\n",
    "    )\n",
    "true_max_dilations_per_kernel"
   ]
  },
  {
   "cell_type": "code",
   "execution_count": 7,
   "metadata": {},
   "outputs": [
    {
     "output_type": "execute_result",
     "data": {
      "text/plain": [
       "3.71875"
      ]
     },
     "metadata": {},
     "execution_count": 7
    }
   ],
   "source": [
    "multiplier = num_features_per_kernel / true_max_dilations_per_kernel\n",
    "multiplier"
   ]
  },
  {
   "cell_type": "code",
   "execution_count": 13,
   "metadata": {},
   "outputs": [
    {
     "output_type": "stream",
     "name": "stdout",
     "text": [
      "max_exponent 3.569855608330948\n[ 1  2  3  4  5  6  7  8  9 10 11]\n[9 5 4 3 2 2 2 1 1 2 1]\n32\n"
     ]
    }
   ],
   "source": [
    "max_exponent = np.log2((n_timepoints - 1) / (9 - 1))\n",
    "print('max_exponent', max_exponent)\n",
    "dilations, num_features_per_dilation = np.unique(\n",
    "        np.logspace(0, max_exponent, true_max_dilations_per_kernel, base=2).astype(\n",
    "            np.int32\n",
    "        ),\n",
    "        return_counts=True,\n",
    "    )\n",
    "print(dilations)\n",
    "print(num_features_per_dilation)\n",
    "print(sum(num_features_per_dilation))"
   ]
  },
  {
   "cell_type": "code",
   "execution_count": 14,
   "metadata": {},
   "outputs": [
    {
     "output_type": "execute_result",
     "data": {
      "text/plain": [
       "array([33, 18, 14, 11,  7,  7,  7,  3,  3,  7,  3])"
      ]
     },
     "metadata": {},
     "execution_count": 14
    }
   ],
   "source": [
    "num_features_per_dilation = (num_features_per_dilation * multiplier).astype(\n",
    "        np.int32\n",
    "    )  # this is a vector\n",
    "num_features_per_dilation"
   ]
  },
  {
   "cell_type": "code",
   "execution_count": 15,
   "metadata": {},
   "outputs": [
    {
     "output_type": "execute_result",
     "data": {
      "text/plain": [
       "6"
      ]
     },
     "metadata": {},
     "execution_count": 15
    }
   ],
   "source": [
    "remainder = num_features_per_kernel - np.sum(num_features_per_dilation)\n",
    "remainder"
   ]
  },
  {
   "cell_type": "code",
   "execution_count": 16,
   "metadata": {},
   "outputs": [],
   "source": [
    "i = 0\n",
    "while remainder > 0:\n",
    "    num_features_per_dilation[i] += 1\n",
    "    remainder -= 1\n",
    "    i = (i + 1) % len(num_features_per_dilation)"
   ]
  },
  {
   "cell_type": "code",
   "execution_count": 17,
   "metadata": {},
   "outputs": [
    {
     "output_type": "execute_result",
     "data": {
      "text/plain": [
       "(array([ 1,  2,  3,  4,  5,  6,  7,  8,  9, 10, 11]),\n",
       " array([34, 19, 15, 12,  8,  8,  7,  3,  3,  7,  3]))"
      ]
     },
     "metadata": {},
     "execution_count": 17
    }
   ],
   "source": [
    "dilations, num_features_per_dilation"
   ]
  },
  {
   "cell_type": "code",
   "execution_count": 19,
   "metadata": {},
   "outputs": [
    {
     "output_type": "execute_result",
     "data": {
      "text/plain": [
       "119"
      ]
     },
     "metadata": {},
     "execution_count": 19
    }
   ],
   "source": [
    "num_features_per_kernel = np.sum(num_features_per_dilation)\n",
    "num_features_per_kernel"
   ]
  },
  {
   "cell_type": "code",
   "execution_count": 31,
   "metadata": {},
   "outputs": [
    {
     "output_type": "execute_result",
     "data": {
      "text/plain": [
       "array([0.618034  , 0.23606798, 0.85410196, 0.47213596, 0.09016994,\n",
       "       0.7082039 , 0.32623792, 0.9442719 , 0.5623059 , 0.18033989,\n",
       "       0.7983739 , 0.41640785, 0.03444185, 0.65247583, 0.27050984,\n",
       "       0.88854384, 0.5065778 , 0.12461179, 0.7426458 , 0.36067978,\n",
       "       0.97871375, 0.59674776, 0.21478175, 0.8328157 , 0.4508497 ,\n",
       "       0.06888371, 0.6869177 , 0.3049517 , 0.9229857 , 0.5410197 ,\n",
       "       0.15905365, 0.7770876 , 0.39512163, 0.01315562], dtype=float32)"
      ]
     },
     "metadata": {},
     "execution_count": 31
    }
   ],
   "source": [
    "def _quantiles(n):\n",
    "    return np.array(\n",
    "        [(_ * ((np.sqrt(5) + 1) / 2)) % 1 for _ in range(1, n + 1)], dtype=np.float32\n",
    "    )\n",
    "\n",
    "quantiles = _quantiles(num_kernels * num_features_per_kernel)\n",
    "quantiles[:34]"
   ]
  },
  {
   "cell_type": "code",
   "execution_count": 23,
   "metadata": {},
   "outputs": [
    {
     "output_type": "execute_result",
     "data": {
      "text/plain": [
       "(2, 8)"
      ]
     },
     "metadata": {},
     "execution_count": 23
    }
   ],
   "source": [
    "dilation_index = 1\n",
    "dilation = dilations[dilation_index]\n",
    "padding = ((9 - 1) * dilation) // 2\n",
    "dilation, padding"
   ]
  },
  {
   "cell_type": "code",
   "execution_count": 25,
   "metadata": {},
   "outputs": [
    {
     "output_type": "execute_result",
     "data": {
      "text/plain": [
       "19"
      ]
     },
     "metadata": {},
     "execution_count": 25
    }
   ],
   "source": [
    "num_features_this_dilation = num_features_per_dilation[dilation_index]\n",
    "kernel_index = 14\n",
    "num_features_this_dilation"
   ]
  },
  {
   "cell_type": "code",
   "execution_count": 26,
   "metadata": {},
   "outputs": [],
   "source": [
    "X = np.random.rand(10, 96)"
   ]
  },
  {
   "cell_type": "code",
   "execution_count": 28,
   "metadata": {},
   "outputs": [
    {
     "output_type": "stream",
     "name": "stdout",
     "text": [
      "2 88\n"
     ]
    }
   ],
   "source": [
    "_X = X[np.random.randint(10)]\n",
    "A = -_X  # A = alpha * X = -X\n",
    "G = _X + _X + _X  # G = gamma * X = 3X\n",
    "C_alpha = np.zeros(n_timepoints, dtype=np.float32)\n",
    "C_alpha[:] = A\n",
    "\n",
    "C_gamma = np.zeros((9, n_timepoints), dtype=np.float32)\n",
    "C_gamma[9 // 2] = G\n",
    "\n",
    "C_alpha, C_gamma\n",
    "\n",
    "start = dilation\n",
    "end = n_timepoints - padding\n",
    "print(start, end)"
   ]
  },
  {
   "cell_type": "code",
   "execution_count": 30,
   "metadata": {},
   "outputs": [],
   "source": [
    "for gamma_index in range(9 // 2):\n",
    "\n",
    "    C_alpha[-end:] = C_alpha[-end:] + A[:end]\n",
    "    C_gamma[gamma_index, -end:] = G[:end]\n",
    "\n",
    "    end += dilation\n",
    "\n",
    "for gamma_index in range(9 // 2 + 1, 9):\n",
    "\n",
    "    C_alpha[:-start] = C_alpha[:-start] + A[start:]\n",
    "    C_gamma[gamma_index, :-start] = G[start:]\n",
    "\n",
    "    start += dilation"
   ]
  },
  {
   "cell_type": "code",
   "execution_count": null,
   "metadata": {},
   "outputs": [],
   "source": []
  }
 ]
}